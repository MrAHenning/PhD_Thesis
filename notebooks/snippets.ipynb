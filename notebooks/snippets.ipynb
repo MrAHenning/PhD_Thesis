{
 "cells": [
  {
   "cell_type": "markdown",
   "metadata": {},
   "source": [
    "# README:\n",
    "\n",
    "- To run the notebook, first navigate to the folder \"Thesis_Code/nlp_server/stanford-corenlp-4.1.0/\"\n",
    "- Open a command prompt inside this folder:\n",
    "    - java -mx4g -cp \"*\" edu.stanford.nlp.pipeline.StanfordCoreNLPServer -port 9000 -timeout 15000\n",
    "- Run this command to initiate a java server, connected to the Stanford CoreNLP \n",
    "- Execute the cells in order \n",
    "\n",
    "# To test that the Java server connected to Stanford CoreNLP is working properly, run the code below. You should see a parse tree diagram\n",
    "- The server runs on port 9000. If you get an error message saying the port is already in use, you'll have to kill the process that's taking that port number.\n",
    "- A quick and easy fix that often (but not always) works is to restart your computer, then run the code before you do anything else, which should ensure that no other work you've done has taken the 9000 port number"
   ]
  },
  {
   "cell_type": "code",
   "execution_count": 3,
   "metadata": {},
   "outputs": [
    {
     "name": "stdout",
     "output_type": "stream",
     "text": [
      "                                                       ROOT                                                 \n",
      "                                                        |                                                    \n",
      "                                                        S                                                   \n",
      "     ___________________________________________________|_________________________________________________   \n",
      "    |                                                   VP                                                | \n",
      "    |        ___________________________________________|_________                                        |  \n",
      "    |       |             |                 |                    SBAR                                     | \n",
      "    |       |             |                 |      _______________|________                               |  \n",
      "    |       |             |                 |     |                        S                              | \n",
      "    |       |             |                 |     |           _____________|_____                         |  \n",
      "    |       |             |                 |     |          |                   VP                       | \n",
      "    |       |             |                 |     |          |          _________|______                  |  \n",
      "    |       |             S                 |     |          |         |                NP                | \n",
      "    |       |             |                 |     |          |         |    ____________|________         |  \n",
      "    |       |             VP                |     |          |         |   |     |      |        S        | \n",
      "    |       |     ________|___              |     |          |         |   |     |      |        |        |  \n",
      "    |       |    |            VP            |     |          |         |   |     |      |        VP       | \n",
      "    |       |    |    ________|___          |     |          |         |   |     |      |     ___|___     |  \n",
      "    NP      |    |   |            NP        |     |          NP        |   |     |      |    |       VP   | \n",
      "    |       |    |   |         ___|____     |     |      ____|____     |   |     |      |    |       |    |  \n",
      "    NN     VBZ   TO  VB       DT       NN   ,     IN    DT        NN  VBZ  DT    JJ     NN   TO      VB   . \n",
      "    |       |    |   |        |        |    |     |     |         |    |   |     |      |    |       |    |  \n",
      "Everybody wants  to rule     the     world  ,  because the      world  is  an amazing place  to     rule  ! \n",
      "\n"
     ]
    }
   ],
   "source": [
    "from nltk.parse.corenlp import CoreNLPParser\n",
    "from nltk.tree import *\n",
    "import nltk\n",
    "\n",
    "parser = CoreNLPParser(url='http://localhost:9000')\n",
    "next(parser.raw_parse('Everybody wants to rule the world, because the world is an amazing place to rule!')).pretty_print()"
   ]
  },
  {
   "cell_type": "markdown",
   "metadata": {},
   "source": [
    "# If you use the Linux Subsystem, you can enable / disable it using these two opposing lines\n",
    "## To Enable:\n",
    "dism.exe /online /enable-feature /featurename:Microsoft-Windows-Subsystem-Linux /all /norestart\n",
    "\n",
    "## To Disable:\n",
    "Disable-WindowsOptionalFeature -Online -FeatureName Microsoft-Windows-Subsystem-Linux\n"
   ]
  },
  {
   "cell_type": "code",
   "execution_count": null,
   "metadata": {},
   "outputs": [],
   "source": []
  }
 ],
 "metadata": {
  "kernelspec": {
   "display_name": "Python [conda env:thesis]",
   "language": "python",
   "name": "conda-env-thesis-py"
  },
  "language_info": {
   "codemirror_mode": {
    "name": "ipython",
    "version": 3
   },
   "file_extension": ".py",
   "mimetype": "text/x-python",
   "name": "python",
   "nbconvert_exporter": "python",
   "pygments_lexer": "ipython3",
   "version": "3.9.4"
  }
 },
 "nbformat": 4,
 "nbformat_minor": 4
}
